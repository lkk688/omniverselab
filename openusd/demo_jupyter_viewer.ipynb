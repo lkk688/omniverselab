{
 "cells": [
  {
   "cell_type": "markdown",
   "metadata": {},
   "source": [
    "# USD to GLB Jupyter Notebook Viewer Demo\n",
    "\n",
    "This notebook demonstrates how to use the `usdmacdisplay.py` module to convert USD files to GLB format and display them directly in Jupyter notebooks."
   ]
  },
  {
   "cell_type": "code",
   "execution_count": null,
   "metadata": {},
   "outputs": [],
   "source": [
    "# Import the functions from usdmacdisplay\n",
    "from usdmacdisplay import convert_usd_to_glb, display_glb_in_jupyter\n",
    "from IPython.display import display"
   ]
  },
  {
   "cell_type": "markdown",
   "metadata": {},
   "source": [
    "## Step 1: Convert USD to GLB\n",
    "\n",
    "First, let's convert a USD file to GLB format:"
   ]
  },
  {
   "cell_type": "code",
   "execution_count": null,
   "metadata": {},
   "outputs": [],
   "source": [
    "# Convert USD file to GLB\n",
    "usd_file = \"assets/box/cubebox_a02_distilled.usdz\"\n",
    "glb_file = convert_usd_to_glb(usd_file)\n",
    "print(f\"GLB file created: {glb_file}\")"
   ]
  },
  {
   "cell_type": "markdown",
   "metadata": {},
   "source": [
    "## Step 2: Display GLB in Jupyter Notebook\n",
    "\n",
    "Now let's display the GLB file directly in this notebook:"
   ]
  },
  {
   "cell_type": "code",
   "execution_count": null,
   "metadata": {},
   "outputs": [],
   "source": [
    "# Display the GLB file in the notebook\n",
    "html_viewer = display_glb_in_jupyter(glb_file)\n",
    "display(html_viewer)"
   ]
  },
  {
   "cell_type": "markdown",
   "metadata": {},
   "source": [
    "## Step 3: Customize Viewer Size\n",
    "\n",
    "You can also customize the viewer dimensions:"
   ]
  },
  {
   "cell_type": "code",
   "execution_count": null,
   "metadata": {},
   "outputs": [],
   "source": [
    "# Display with custom dimensions\n",
    "html_viewer_custom = display_glb_in_jupyter(glb_file, width=\"800px\", height=\"400px\")\n",
    "display(html_viewer_custom)"
   ]
  },
  {
   "cell_type": "markdown",
   "metadata": {},
   "source": [
    "## Features\n",
    "\n",
    "The 3D viewer includes:\n",
    "- **Interactive controls**: Use mouse to rotate, scroll to zoom\n",
    "- **Auto-rotation**: Models automatically rotate for better viewing\n",
    "- **Loading indicators**: Shows progress while loading\n",
    "- **Error handling**: Displays error messages if loading fails\n",
    "- **Responsive design**: Adapts to different screen sizes\n",
    "\n",
    "## Requirements\n",
    "\n",
    "- `usd2gltf` command-line tool\n",
    "- Internet connection (for model-viewer library)\n",
    "- Jupyter notebook environment"
   ]
  }
 ],
 "metadata": {
  "kernelspec": {
   "display_name": "Python 3",
   "language": "python",
   "name": "python3"
  },
  "language_info": {
   "codemirror_mode": {
    "name": "ipython",
    "version": 3
   },
   "file_extension": ".py",
   "mimetype": "text/x-python",
   "name": "python",
   "nbconvert_exporter": "python",
   "pygments_lexer": "ipython3",
   "version": "3.8.0"
  }
 },
 "nbformat": 4,
 "nbformat_minor": 4
}