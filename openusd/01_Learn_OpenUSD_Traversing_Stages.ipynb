{
 "cells": [
  {
   "cell_type": "markdown",
   "metadata": {
    "cell_id": "d2ce4117a1fa49099977046bbac81771",
    "deepnote_app_block_visible": false,
    "deepnote_cell_type": "markdown",
    "id": "TGBFsx4LNOC9"
   },
   "source": [
    "# **Learn OpenUSD: Traversing Stages**\n",
    "\n",
    "Welcome to the Jupyter notebook for *Learn OpenUSD: Traversing Stages*. This is where we will find all the Python activities related to this course. Before starting **Activity 1**, make sure to run the cell below."
   ]
  },
  {
   "cell_type": "markdown",
   "metadata": {
    "cell_id": "c6e9267b814c401b9758d3a4f9e9e404",
    "deepnote_app_block_visible": false,
    "deepnote_cell_type": "markdown",
    "id": "C87L5jDLNOC-"
   },
   "source": [
    ">**NOTE**: Before starting make sure to run the cell below. This will install the relevant OpenUSD libraries that will be used through this notebook."
   ]
  },
  {
   "cell_type": "code",
   "execution_count": 1,
   "metadata": {
    "cell_id": "036d2d85d8354df680159d7be5ab924c",
    "deepnote_cell_type": "code",
    "deepnote_to_be_reexecuted": false,
    "execution_millis": 5315,
    "execution_start": 1716494737491,
    "id": "76u5Q_KcNOC-",
    "source_hash": null
   },
   "outputs": [],
   "source": [
    "from utils.visualization import DisplayUSD\n",
    "from utils.helperfunctions import create_new_stage"
   ]
  },
  {
   "cell_type": "markdown",
   "metadata": {
    "id": "xnk2kv1FNOC-"
   },
   "source": [
    "**Run the cell below to create the file that will be used for this module:**"
   ]
  },
  {
   "cell_type": "code",
   "execution_count": 2,
   "metadata": {
    "id": "sJlNHzNENOC-"
   },
   "outputs": [
    {
     "data": {
      "text/html": [
       "\n",
       "<style type=\"text/css\">\n",
       "    .wrapper, #model-viewer-b3b48f4b-ec76-4031-8111-832be9e4a778-wrapper {\n",
       "        width: auto;\n",
       "        height: 800px;\n",
       "    }\n",
       "\n",
       "    model-viewer {\n",
       "        height: 100%;\n",
       "        width: auto;\n",
       "        --progress-bar-color: darkgrey;\n",
       "    }\n",
       "    model-viewer .loading-annotation {\n",
       "        position: absolute;\n",
       "        top: 50%;\n",
       "        left: 50%;\n",
       "        transform: translate(-50%, -50%);\n",
       "        color: var(--progress-bar-color);\n",
       "        display: flex;\n",
       "        flex-direction: column;\n",
       "    }\n",
       "    model-viewer .loading-annotation .message {\n",
       "        font-size: 1.2rem;\n",
       "        font-weight: bold;\n",
       "    }\n",
       "    model-viewer .loading-annotation .spinner-container {\n",
       "        width: 100%;\n",
       "        display: flex;\n",
       "        justify-content: center;\n",
       "        margin-top: 1rem;\n",
       "    }\n",
       "    model-viewer .loading-annotation .spinner {\n",
       "        transform: translate(-50%, -50%);\n",
       "        width: 48px;\n",
       "        height: 48px;\n",
       "        border: 5px solid var(--progress-bar-color);\n",
       "        border-bottom-color: transparent;\n",
       "        border-radius: 50%;\n",
       "        display: inline-block;\n",
       "        box-sizing: border-box;\n",
       "        animation: rotation 1s linear infinite;\n",
       "    }\n",
       "\n",
       "    @keyframes rotation {\n",
       "        0% {\n",
       "            transform: rotate(0deg);\n",
       "        }\n",
       "        100% {\n",
       "            transform: rotate(360deg);\n",
       "        }\n",
       "    }\n",
       "                        \n",
       "    .container-fluid {\n",
       "        display: flex;\n",
       "        height: 100%; /* Ensures the container takes the full height of the viewport. */\n",
       "    }\n",
       "    .container-fluid .row,\n",
       "    .container-fluid .row .col {\n",
       "        display: flex;\n",
       "        flex: 1;\n",
       "    }\n",
       "    .visualization-column {\n",
       "        flex: 1; /* This makes the left column take up the remaining space. */\n",
       "    }\n",
       "    .code-column {\n",
       "        display: flex;\n",
       "        flex: 0 1 100% !important;\n",
       "        justify-content: center;\n",
       "        align-items: center;\n",
       "        max-width: 500px; /* Fixed width for the right column. */\n",
       "        /* background-color: #d0d0d0; */ /* Optional, for visual clarity. */\n",
       "    }\n",
       "    .code-column pre {\n",
       "        max-width: 100%;\n",
       "        /* overflow: auto; */\n",
       "    }\n",
       "    .code-column pre code.hljs {\n",
       "        background: #282c34;\n",
       "        color: #abb2bf;\n",
       "        border-radius: 4px;\n",
       "        text-wrap: nowrap;\n",
       "    }\n",
       "</style>\n",
       "\n",
       "<!-- Import the `<model-viewer>` component: -->\n",
       "<script type=\"module\" src=\"https://ajax.googleapis.com/ajax/libs/model-viewer/3.5.0/model-viewer.min.js\"></script>\n",
       "\n",
       "<!-- Import Bootstrap for layout: -->\n",
       "<!--\n",
       "<link href=\"https://cdn.jsdelivr.net/npm/bootstrap@5.3.3/dist/css/bootstrap.min.css\" rel=\"stylesheet\">\n",
       "-->\n",
       "\n",
       "\n",
       "<link rel=\"stylesheet\" href=\"https://cdnjs.cloudflare.com/ajax/libs/highlight.js/11.9.0/styles/atom-one-dark.min.css\" crossorigin=\"anonymous\" referrerpolicy=\"no-referrer\" />\n",
       "<script src=\"https://cdnjs.cloudflare.com/ajax/libs/highlight.js/11.9.0/highlight.min.js\"></script>\n",
       "<script src=\"https://cdnjs.cloudflare.com/ajax/libs/highlight.js/11.9.0/languages/python.min.js\"></script>\n",
       "        \n",
       "\n",
       "<div class=\"container-fluid text-center\">\n",
       "    <div class=\"row row-cols-2\">\n",
       "        <div class=\"col\">\n",
       "\n",
       "<div id=\"model-viewer-b3b48f4b-ec76-4031-8111-832be9e4a778-wrapper\" class=\"visualization-column\">\n",
       "    <model-viewer id=\"model-viewer-b3b48f4b-ec76-4031-8111-832be9e4a778\" src=\"assets/tons_of_prims.glb\" autoplay ar shadow-intensity=\"1\" camera-controls touch-action=\"pan-y\" disable-zoom>\n",
       "        <div class=\"loading-annotation\">\n",
       "            <div class=\"message\">Loading your model...</div>\n",
       "            <div class=\"asset-id\">assets/tons_of_prims.usda</div>\n",
       "            <div class=\"spinner-container\">\n",
       "                <div class=\"spinner\"></div>\n",
       "            </div>\n",
       "        </div>\n",
       "    </model-viewer>\n",
       "</div>\n",
       "                        \n",
       "        \n",
       "<div class=\"col text-left code-column \">\n",
       "    <pre>\n",
       "        <code id=\"code-content-b3b48f4b-ec76-4031-8111-832be9e4a778\" class=\"language-python\" style=\"display: none;\">#usda 1.0\n",
       "(\n",
       "    defaultPrim = \"World\"\n",
       ")\n",
       "\n",
       "def Xform \"World\"\n",
       "{\n",
       "    def Xform \"Box\"\n",
       "    {\n",
       "        def Scope \"Geometry\"\n",
       "        {\n",
       "            def Cube \"Cube\"\n",
       "            {\n",
       "            }\n",
       "        }\n",
       "\n",
       "        def Scope \"Materials\"\n",
       "        {\n",
       "            def Material \"BoxMat\"\n",
       "            {\n",
       "            }\n",
       "        }\n",
       "    }\n",
       "\n",
       "    def Scope \"Environment\"\n",
       "    {\n",
       "        def DistantLight \"SkyLight\"\n",
       "        {\n",
       "        }\n",
       "    }\n",
       "}\n",
       "\n",
       "</code>\n",
       "    </pre>\n",
       "</div>\n",
       "\n",
       "<script type=\"application/javascript\">\n",
       "    (() => {\n",
       "        function onDocumentReady(callback) {\n",
       "            if (document.readyState !== 'loading') {\n",
       "                callback();\n",
       "            } else {\n",
       "                document.addEventListener('DOMContentLoaded', callback);\n",
       "            }\n",
       "        }\n",
       "\n",
       "        function doHighlight() {\n",
       "            const snippetToHighlight = document.getElementById('code-content-b3b48f4b-ec76-4031-8111-832be9e4a778');\n",
       "            if (snippetToHighlight !== null) {\n",
       "                hljs.highlightElement(snippetToHighlight);\n",
       "                snippetToHighlight.style.display = 'block';\n",
       "            }                  \n",
       "        }\n",
       "        \n",
       "        function main() {\n",
       "            if (window.hljs) {\n",
       "                doHighlight();              \n",
       "            } else {\n",
       "                setTimeout(main, 250);\n",
       "            }\n",
       "        }\n",
       "\n",
       "        onDocumentReady(main);\n",
       "    })();\n",
       "</script>\n",
       "\n",
       "        </div>\n",
       "    </div>\n",
       "</div>\n",
       "\n",
       "<script type=\"module\">\n",
       "    (() => {\n",
       "        function onDocumentReady(callback) {\n",
       "            if (document.readyState !== 'loading') {\n",
       "                callback();\n",
       "            } else {\n",
       "                document.addEventListener('DOMContentLoaded', callback);\n",
       "            }\n",
       "        }\n",
       "\n",
       "        /**\n",
       "         * Hide the progress indicator of the `<model-viewer />` element once loading of the associated 3D asset is\n",
       "         * complete.\n",
       "         */\n",
       "        function handleViewerProgress() {\n",
       "            // Handles loading the events for <model-viewer>'s slotted progress bar:\n",
       "            const onProgress = (event) => {\n",
       "                const loadingAnnotation = event.target.querySelector('.loading-annotation');\n",
       "\n",
       "                if (event.detail.totalProgress === 0) {\n",
       "                    loadingAnnotation.style.display = 'block';\n",
       "                } else {\n",
       "                    if (event.detail.totalProgress === 1) {\n",
       "                        setTimeout(() => {\n",
       "                            loadingAnnotation.style.display = 'none';\n",
       "                        }, 500);\n",
       "                    }\n",
       "                }\n",
       "            };\n",
       "\n",
       "            const modelViewer = document.getElementById('model-viewer-b3b48f4b-ec76-4031-8111-832be9e4a778');\n",
       "            if (modelViewer !== null) {\n",
       "                modelViewer.addEventListener('progress', onProgress);\n",
       "            }\n",
       "        }\n",
       "\n",
       "        /**\n",
       "         * Display the names of the animations baked into the model, once it is loaded.\n",
       "         */\n",
       "        function displayAnimationNames() {\n",
       "            const modelViewer = document.getElementById('model-viewer-b3b48f4b-ec76-4031-8111-832be9e4a778');\n",
       "            if (modelViewer !== null) {\n",
       "                modelViewer.addEventListener('load', () => {\n",
       "                    const animationNames = modelViewer.availableAnimations;\n",
       "                    console.log('Available animation names for \"model-viewer-b3b48f4b-ec76-4031-8111-832be9e4a778\": ' + animationNames.join(', '));\n",
       "                });\n",
       "            }\n",
       "        }\n",
       "\n",
       "        /**\n",
       "         * Prevent displaying the default Jupyter context menu when right-clicking on the 3D visualization element, as\n",
       "         * this causes the context menu to be displayed when right-clicking to pan around the 3D world, causing an\n",
       "         * undesirable User experience as the context menu then obscures part of the element.\n",
       "         */\n",
       "        function handleRightClick() {\n",
       "            const viewerWrapper = document.getElementById('model-viewer-b3b48f4b-ec76-4031-8111-832be9e4a778-wrapper');\n",
       "            if (viewerWrapper !== null) {\n",
       "                viewerWrapper.addEventListener('contextmenu', e => {\n",
       "                    e.preventDefault();\n",
       "                    e.stopPropagation();\n",
       "                });\n",
       "            }\n",
       "        }\n",
       "        \n",
       "        function main() {\n",
       "            displayAnimationNames();\n",
       "            handleViewerProgress();\n",
       "            handleRightClick();\n",
       "        }\n",
       "\n",
       "        onDocumentReady(main);\n",
       "    })();\n",
       "</script>\n"
      ],
      "text/plain": [
       "<IPython.core.display.HTML object>"
      ]
     },
     "metadata": {},
     "output_type": "display_data"
    }
   ],
   "source": [
    "from pxr import Usd, UsdGeom, UsdLux, UsdShade\n",
    "\n",
    "stage: Usd.Stage = create_new_stage(\"assets/tons_of_prims.usda\")\n",
    "\n",
    "world: UsdGeom.Xform = UsdGeom.Xform.Define(stage, \"/World\")\n",
    "stage.SetDefaultPrim(world.GetPrim())\n",
    "\n",
    "box: UsdGeom.Xform = UsdGeom.Xform.Define(stage, world.GetPath().AppendPath(\"Box\"))\n",
    "geo_scope: UsdGeom.Scope = UsdGeom.Scope.Define(stage, box.GetPath().AppendPath(\"Geometry\"))\n",
    "box_geo: UsdGeom.Cube = UsdGeom.Cube.Define(stage, geo_scope.GetPath().AppendPath(\"Cube\"))\n",
    "\n",
    "mat_scope: UsdGeom.Scope = UsdGeom.Scope.Define(stage, box.GetPath().AppendPath(\"Materials\"))\n",
    "box_mat: UsdShade.Material = UsdShade.Material.Define(stage, mat_scope.GetPath().AppendPath(\"BoxMat\"))\n",
    "\n",
    "# Define a new Scope primitive at the path \"/World/Environment\" on the current stage\n",
    "env: UsdGeom.Scope = UsdGeom.Scope.Define(stage, world.GetPath().AppendPath(\"Environment\"))\n",
    "\n",
    "# Define a new DistantLight primitive at the path \"/World/Environment/SkyLight\" on the current stage\n",
    "distant_light: UsdLux.DistantLight = UsdLux.DistantLight.Define(stage, env.GetPath().AppendPath(\"SkyLight\"))\n",
    "\n",
    "stage.Save()\n",
    "DisplayUSD(\"assets/tons_of_prims.usda\", show_usd_code=True)"
   ]
  },
  {
   "cell_type": "markdown",
   "metadata": {
    "cell_id": "4f1a02b905d3492a8def5f79c42cdfe4",
    "deepnote_app_block_visible": false,
    "deepnote_cell_type": "markdown",
    "id": "VFjbW596NOC-"
   },
   "source": [
    "---\n",
    "\n",
    "## **Activity 1**: Traversing Through the Stage\n",
    "\n",
    "To traverse through the stage, we can use the [`Traverse()`](https://openusd.org/release/api/class_usd_stage.html#adba675b55f41cc1b305bed414fc4f178) method. This traversal will yield prims from the current stage in depth-first-traversal order.\n",
    "\n",
    "**Add the following code to the cell below, then run the cell:**\n",
    "\n",
    "```python\n",
    "# Traverse through each prim (primitive) in the stage\n",
    "for prim in stage.Traverse():\n",
    "    # Print the path of each prim\n",
    "    print(prim.GetPath())\n",
    "```"
   ]
  },
  {
   "cell_type": "code",
   "execution_count": 3,
   "metadata": {
    "cell_id": "b3b417950ea74c6887cc1a6f89a0e64f",
    "deepnote_cell_type": "code",
    "id": "aZTCOSmnNOC_"
   },
   "outputs": [
    {
     "name": "stdout",
     "output_type": "stream",
     "text": [
      "/World\n",
      "/World/Box\n",
      "/World/Box/Geometry\n",
      "/World/Box/Geometry/Cube\n",
      "/World/Box/Materials\n",
      "/World/Box/Materials/BoxMat\n",
      "/World/Environment\n",
      "/World/Environment/SkyLight\n"
     ]
    }
   ],
   "source": [
    "# Import the Usd module from the pxr package\n",
    "from pxr import Usd\n",
    "\n",
    "# Open the USD stage from the specified file\n",
    "stage: Usd.Stage = Usd.Stage.Open(\"assets/tons_of_prims.usda\")\n",
    "\n",
    "# Traverse through each prim (primitive) in the stage\n",
    "for prim in stage.Traverse():\n",
    "    # Print the path of each prim\n",
    "    print(prim.GetPath())"
   ]
  },
  {
   "cell_type": "markdown",
   "metadata": {
    "cell_id": "906361df730148ba85d2681971ae973d",
    "deepnote_app_block_visible": false,
    "deepnote_cell_type": "markdown",
    "id": "8-FPIEstNOC_"
   },
   "source": [
    "---\n",
    "\n",
    "## **Activity 2**: Traversing USD Content for Specific Prim Types\n",
    "\n",
    "Using [`Traverse()`](https://openusd.org/release/api/class_usd_stage.html#adba675b55f41cc1b305bed414fc4f178) can get costly as the stage scales.\n",
    "\n",
    "We can filter based on the type of the prim. For example, we can check if the prim is of type `scope` or `xform`. To do this we pass the prim into the constructor method for the prim type we are interested in. For example,`UsdGeom.Scope(prim)` is equivalent to [`UsdGeom.Scope.Get(prim.GetStage(), prim.GetPath())`](https://openusd.org/release/api/class_usd_geom_scope.html#a538339c2aa462ebcf1eb07fed16f9be4) for a valid prim. If the prim's type does not match, it will return an invalid prim.\n",
    "\n",
    "**Add the following code to the cell below, then run the cell:**\n",
    "\n",
    "```python\n",
    "# Traverse through each prim (primitive) in the stage\n",
    "for prim in stage.Traverse():\n",
    "    # Check if the prim is of type Scope\n",
    "    print(UsdGeom.Scope(prim))\n",
    "    if UsdGeom.Scope(prim):\n",
    "        print(\"Scope Type: \", prim.GetName())\n",
    "    # Check if the prim is of type Xform\n",
    "    elif UsdGeom.Xform(prim):\n",
    "        print(\"Xform Type: \", prim.GetName())\n",
    "```"
   ]
  },
  {
   "cell_type": "code",
   "execution_count": 4,
   "metadata": {
    "cell_id": "c32b9a1ef5e745c4bfbce783aaaa2abc",
    "colab": {
     "base_uri": "https://localhost:8080/",
     "height": 384
    },
    "deepnote_cell_type": "code",
    "executionInfo": {
     "elapsed": 176,
     "status": "error",
     "timestamp": 1724819772129,
     "user": {
      "displayName": "Michele Bousquet US",
      "userId": "18235337549784000476"
     },
     "user_tz": 300
    },
    "id": "ftStMNm_NOC_",
    "outputId": "7956bfbd-dcf0-406d-c398-b1891be5eb8d"
   },
   "outputs": [
    {
     "name": "stdout",
     "output_type": "stream",
     "text": [
      "UsdGeom.Scope(Usd.Prim(</World>))\n",
      "Xform Type:  World\n",
      "UsdGeom.Scope(Usd.Prim(</World/Box>))\n",
      "Xform Type:  Box\n",
      "UsdGeom.Scope(Usd.Prim(</World/Box/Geometry>))\n",
      "Scope Type:  Geometry\n",
      "UsdGeom.Scope(Usd.Prim(</World/Box/Geometry/Cube>))\n",
      "UsdGeom.Scope(Usd.Prim(</World/Box/Materials>))\n",
      "Scope Type:  Materials\n",
      "UsdGeom.Scope(Usd.Prim(</World/Box/Materials/BoxMat>))\n",
      "UsdGeom.Scope(Usd.Prim(</World/Environment>))\n",
      "Scope Type:  Environment\n",
      "UsdGeom.Scope(Usd.Prim(</World/Environment/SkyLight>))\n"
     ]
    }
   ],
   "source": [
    "# Import necessary modules from the pxr package\n",
    "from pxr import Usd, UsdGeom\n",
    "\n",
    "# Open the USD stage from the specified file\n",
    "stage: Usd.Stage = Usd.Stage.Open(\"assets/tons_of_prims.usda\")\n",
    "\n",
    "\n",
    "# Traverse through each prim (primitive) in the stage\n",
    "for prim in stage.Traverse():\n",
    "    # Check if the prim is of type Scope\n",
    "    print(UsdGeom.Scope(prim))\n",
    "    if UsdGeom.Scope(prim):\n",
    "        print(\"Scope Type: \", prim.GetName())\n",
    "    # Check if the prim is of type Xform\n",
    "    elif UsdGeom.Xform(prim):\n",
    "        print(\"Xform Type: \", prim.GetName())"
   ]
  },
  {
   "cell_type": "markdown",
   "metadata": {
    "cell_id": "b5513b5de18046bf92a72621f1a55042",
    "deepnote_app_block_visible": false,
    "deepnote_cell_type": "markdown",
    "id": "L_Qlq-6WNOC_"
   },
   "source": [
    "---\n",
    "\n",
    "## **Activity 3**: Traversing Through the Children of a Prim\n",
    "\n",
    "Another way to be more efficient and targeted is to traverse through the children of a prim.\n",
    "\n",
    "If you need to work within a specific scope or hierarchy in the stage, you can perform a traversal starting from a particular prim. Below shows a simple example on how to do this.\n",
    "\n",
    "```python\n",
    "from pxr import Usd\n",
    "\n",
    "stage = Usd.Stage.Open('path/to/your.usda')\n",
    "root_prim = stage.GetPrimAtPath(\"/root/path\")\n",
    "\n",
    "for prim in root_prim.GetChildren():\n",
    "    # Perform operations on children of the root prim\n",
    "    print(prim.GetPath())\n",
    "```\n",
    "\n",
    "Using [`Traverse()`](https://openusd.org/release/api/class_usd_stage.html#adba675b55f41cc1b305bed414fc4f178) can be a powerful tool, but for large stages, more efficient and targeted methods should be considered.\n",
    "\n",
    "Let's take a look at how we can traverse through the children of the default prim.\n",
    "\n",
    "**Copy the following code and paste it in the cell below:**\n",
    "\n",
    "```python\n",
    "# Iterate through all children of the default prim\n",
    "for child in default_prim.GetAllChildren():\n",
    "    # Print the path of each child prim\n",
    "    print(child.GetPath())\n",
    "\n",
    "# Get a specific child prim named \"Environment\" under the default prim\n",
    "child_prim: Usd.Prim = default_prim.GetChild(\"Environment\")\n",
    "# Print the details of the child prim\n",
    "print(child_prim)\n",
    "```"
   ]
  },
  {
   "cell_type": "code",
   "execution_count": 5,
   "metadata": {
    "cell_id": "62a63bfb9b1e4d2fa28357f716cb4693",
    "deepnote_cell_type": "code",
    "id": "qGuWF75rNOC_"
   },
   "outputs": [
    {
     "name": "stdout",
     "output_type": "stream",
     "text": [
      "/World/Box\n",
      "/World/Environment\n",
      "Usd.Prim(</World/Environment>)\n"
     ]
    }
   ],
   "source": [
    "# Import the `Usd` module from the `pxr` package:\n",
    "from pxr import Usd\n",
    "\n",
    "# Open the USD stage from the specified file:\n",
    "stage: Usd.Stage = Usd.Stage.Open(\"assets/tons_of_prims.usda\")\n",
    "\n",
    "# Get the default prim (primitive) of the stage:\n",
    "default_prim: Usd.Prim = stage.GetDefaultPrim()\n",
    "\n",
    "# Iterate through all children of the default prim\n",
    "for child in default_prim.GetAllChildren():\n",
    "    # Print the path of each child prim\n",
    "    print(child.GetPath())\n",
    "\n",
    "# Get a specific child prim named \"Environment\" under the default prim\n",
    "child_prim: Usd.Prim = default_prim.GetChild(\"Environment\")\n",
    "# Print the details of the child prim\n",
    "print(child_prim)"
   ]
  },
  {
   "cell_type": "markdown",
   "metadata": {
    "id": "Av2_XHnMNOC_"
   },
   "source": [
    "---\n",
    "\n",
    "## **Activity 4**: Traversing using `Usd.PrimRange`\n",
    "\n",
    "[`Traverse()`](https://openusd.org/release/api/class_usd_stage.html#adba675b55f41cc1b305bed414fc4f178) will return a [`UsdPrimRange`](https://openusd.org/release/api/class_usd_prim_range.html) object. `UsdPrimRange` exposes pre- and post-order prim visitations allowing for a more involved traversals. It can also be used to perform actions such as pruning subtrees. [`Traverse()`](https://openusd.org/release/api/class_usd_stage.html#adba675b55f41cc1b305bed414fc4f178) is a convenience method that performs visitations on all prims in the composed scenegraph that are active, defined, loaded, and concrete. It is recommended to use [`UsdPrimRange`](https://openusd.org/release/api/class_usd_prim_range.html) over [`Traverse()`](https://openusd.org/release/api/class_usd_stage.html#adba675b55f41cc1b305bed414fc4f178) for traversals.\n",
    "\n",
    "Let's see an example of [`UsdPrimRange`](https://openusd.org/release/api/class_usd_prim_range.html) in use.\n",
    "\n",
    "**Add the following code to the cell below, then run the cell:**\n",
    "\n",
    "``` python\n",
    "prim_range = Usd.PrimRange(stage.GetDefaultPrim())\n",
    "for prim in prim_range:\n",
    "    print(prim.GetPath())\n",
    "```"
   ]
  },
  {
   "cell_type": "code",
   "execution_count": 6,
   "metadata": {
    "id": "rrgnwXlINOC_"
   },
   "outputs": [
    {
     "name": "stdout",
     "output_type": "stream",
     "text": [
      "/World\n",
      "/World/Box\n",
      "/World/Box/Geometry\n",
      "/World/Box/Geometry/Cube\n",
      "/World/Box/Materials\n",
      "/World/Box/Materials/BoxMat\n",
      "/World/Environment\n",
      "/World/Environment/SkyLight\n"
     ]
    }
   ],
   "source": [
    "# Import the Usd module from the pxr package\n",
    "from pxr import Usd\n",
    "\n",
    "# Open the USD stage from the specified file\n",
    "stage: Usd.Stage = Usd.Stage.Open(\"assets/tons_of_prims.usda\")\n",
    "\n",
    "\n",
    "prim_range = Usd.PrimRange(stage.GetDefaultPrim())\n",
    "for prim in prim_range:\n",
    "    print(prim.GetPath())"
   ]
  },
  {
   "cell_type": "markdown",
   "metadata": {
    "id": "XOF-uDKJNOC_"
   },
   "source": [
    "[`Traverse()`](https://openusd.org/release/api/class_usd_stage.html#adba675b55f41cc1b305bed414fc4f178) will go through the entire stage. Unlike [`Traverse()`](https://openusd.org/release/api/class_usd_stage.html#adba675b55f41cc1b305bed414fc4f178), [`UsdPrimRange`](https://openusd.org/release/api/class_usd_prim_range.html) can also traverse through a pseudo root prim. To do this, we'd pass the prim in question as an argument to the function. The code below demonstrates this:\n",
    "\n",
    "**Add the following code to the cell below, then run the cell:**\n",
    "\n",
    "```python\n",
    "prim_range = Usd.PrimRange(stage.GetPrimAtPath(\"/World/Environment\"))\n",
    "```"
   ]
  },
  {
   "cell_type": "code",
   "execution_count": 7,
   "metadata": {
    "id": "CipY5UixNOC_"
   },
   "outputs": [
    {
     "name": "stdout",
     "output_type": "stream",
     "text": [
      "/World/Environment\n",
      "/World/Environment/SkyLight\n"
     ]
    }
   ],
   "source": [
    "# Import the Usd module from the pxr package\n",
    "from pxr import Usd\n",
    "\n",
    "# Open the USD stage from the specified file\n",
    "stage: Usd.Stage = Usd.Stage.Open(\"assets/tons_of_prims.usda\")\n",
    "\n",
    "prim_range = Usd.PrimRange(stage.GetPrimAtPath(\"/World/Environment\"))\n",
    "\n",
    "for prim in prim_range:\n",
    "    print(prim.GetPath())"
   ]
  },
  {
   "cell_type": "markdown",
   "metadata": {
    "id": "EyPQtab4NOC_"
   },
   "source": [
    "There are other ways to use [`UsdPrimRange`](https://openusd.org/release/api/class_usd_prim_range.html) such as passing in [`predicates`](https://openusd.org/release/api/prim_flags_8h.html#Usd_PrimFlags), you can find more information in the [Using `Usd.PrimRange` in Python](https://openusd.org/release/api/class_usd_prim_range.html#details) section of `UsdPrimRange`."
   ]
  },
  {
   "cell_type": "markdown",
   "metadata": {
    "cell_id": "6c266e4610714fbeaebb5b4a17dd6dba",
    "deepnote_app_block_visible": false,
    "deepnote_cell_type": "markdown",
    "id": "8hLFeI7RNOC_"
   },
   "source": [
    "---\n",
    "\n",
    "## **Activity 5**: Setting Prims as Active/Inactive\n",
    "\n",
    "[Active/Inactive](https://openusd.org/release/glossary.html#active-inactive) prim is a behavior that is non-destructive and provides reversible prim deletion from a stage. By default, all prims are active. Active prims are visited by stage traversals.\n",
    "\n",
    "If a prim is inactive that means it is not visited by stage traversals, and neither will its child prims.\n",
    "\n",
    "To set whether the prim is active or inactive is by using [`SetActive()`](https://openusd.org/release/api/class_usd_prim.html#ac156eed30c42c013c4a4debf580ce17f). Giving the value of `False` will make it inactive and `True` to make it active.\n",
    "\n",
    "**Add the following code to the cell below, then run the cell:**\n",
    "\n",
    "```python\n",
    "# Get the child prim named \"Box\" under the default prim and deactivate it\n",
    "box = default_prim.GetChild(\"Box\")\n",
    "# Passing in False to SetActive() will set the prim as Inactive and passing in True will set the prim as active\n",
    "box.SetActive(False)\n",
    "```"
   ]
  },
  {
   "cell_type": "code",
   "execution_count": 8,
   "metadata": {
    "cell_id": "c610c788815146c091827f0a58c4f113",
    "deepnote_cell_type": "code",
    "id": "T9GLIhndNOC_"
   },
   "outputs": [
    {
     "name": "stdout",
     "output_type": "stream",
     "text": [
      "Box []\n",
      "Environment [Usd.Prim(</World/Environment/SkyLight>)]\n",
      "Usd.Prim(</World/Environment>)\n"
     ]
    }
   ],
   "source": [
    "from pxr import Usd\n",
    "\n",
    "# Open the USD stage from the specified file\n",
    "stage = Usd.Stage.Open(\"assets/tons_of_prims.usda\")\n",
    "\n",
    "# Get the default prim (primitive) of the stage\n",
    "default_prim: Usd.Prim = stage.GetDefaultPrim()\n",
    "\n",
    "# Get the child prim named \"Box\" under the default prim and deactivate it\n",
    "box = default_prim.GetChild(\"Box\")\n",
    "# Passing in False to SetActive() will set the prim as Inactive and passing in True will set the prim as active\n",
    "box.SetActive(False)\n",
    "\n",
    "# Iterate through all children of the default prim\n",
    "for child in default_prim.GetAllChildren():\n",
    "    # Print the name of each child and their children (if any)\n",
    "    print(child.GetName(), child.GetAllChildren())\n",
    "\n",
    "# Get a specific child prim named \"Environment\" under the default prim\n",
    "child_prim: Usd.Prim = default_prim.GetChild(\"Environment\")\n",
    "# Print the details of the child prim\n",
    "print(child_prim)"
   ]
  },
  {
   "cell_type": "code",
   "execution_count": null,
   "metadata": {},
   "outputs": [],
   "source": []
  }
 ],
 "metadata": {
  "colab": {
   "provenance": []
  },
  "deepnote_execution_queue": [],
  "deepnote_notebook_id": "29ae41908d9b4f1d9c03712a7f900faf",
  "kernelspec": {
   "display_name": "Python 3 (ipykernel)",
   "language": "python",
   "name": "python3"
  },
  "language_info": {
   "codemirror_mode": {
    "name": "ipython",
    "version": 3
   },
   "file_extension": ".py",
   "mimetype": "text/x-python",
   "name": "python",
   "nbconvert_exporter": "python",
   "pygments_lexer": "ipython3",
   "version": "3.11.6"
  }
 },
 "nbformat": 4,
 "nbformat_minor": 4
}
